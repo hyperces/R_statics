{
  "nbformat": 4,
  "nbformat_minor": 0,
  "metadata": {
    "colab": {
      "name": "기술통계.ipynb",
      "provenance": [],
      "authorship_tag": "ABX9TyMKhfqCTHU9/WEz7BfNTXeJ",
      "include_colab_link": true
    },
    "kernelspec": {
      "name": "ir",
      "display_name": "R"
    }
  },
  "cells": [
    {
      "cell_type": "markdown",
      "metadata": {
        "id": "view-in-github",
        "colab_type": "text"
      },
      "source": [
        "<a href=\"https://colab.research.google.com/github/hyperces/R_statics/blob/master/%EA%B8%B0%EC%88%A0%ED%86%B5%EA%B3%84.ipynb\" target=\"_parent\"><img src=\"https://colab.research.google.com/assets/colab-badge.svg\" alt=\"Open In Colab\"/></a>"
      ]
    },
    {
      "cell_type": "markdown",
      "metadata": {
        "id": "zxFdbnlETOZ4",
        "colab_type": "text"
      },
      "source": [
        "# 표본추출  \n",
        "\n",
        "## 복원추출\n",
        " + 표본을 뽑은 후 다시 모집단에 넣은 후 그 다음 표본을 추출하는 방식  \n",
        "\n",
        "## 비복원 추출\n",
        " + 표본을 뽑은 후 모집단에 다시 넣지 않고 그 다음 표본을 추출하는 방식  \n",
        "\n",
        "## R에서는 sample 함수를 이요해서 표본을 추출할 수 있음  \n",
        " + sample(모집단,표본수,복원/비복원 여부)"
      ]
    },
    {
      "cell_type": "code",
      "metadata": {
        "id": "TOwzL5UdW-bm",
        "colab_type": "code",
        "colab": {
          "base_uri": "https://localhost:8080/",
          "height": 34
        },
        "outputId": "098e5522-f669-43b6-9069-e4ab38f96a17"
      },
      "source": [
        "sample(x=1:10,5)"
      ],
      "execution_count": 21,
      "outputs": [
        {
          "output_type": "display_data",
          "data": {
            "text/plain": [
              "[1]  2 10  5  4  1"
            ],
            "text/latex": "\\begin{enumerate*}\n\\item 2\n\\item 10\n\\item 5\n\\item 4\n\\item 1\n\\end{enumerate*}\n",
            "text/markdown": "1. 2\n2. 10\n3. 5\n4. 4\n5. 1\n\n\n",
            "text/html": [
              "<style>\n",
              ".list-inline {list-style: none; margin:0; padding: 0}\n",
              ".list-inline>li {display: inline-block}\n",
              ".list-inline>li:not(:last-child)::after {content: \"\\00b7\"; padding: 0 .5ex}\n",
              "</style>\n",
              "<ol class=list-inline><li>2</li><li>10</li><li>5</li><li>4</li><li>1</li></ol>\n"
            ]
          },
          "metadata": {
            "tags": []
          }
        }
      ]
    },
    {
      "cell_type": "code",
      "metadata": {
        "id": "rN_rSYt1WUbh",
        "colab_type": "code",
        "colab": {
          "base_uri": "https://localhost:8080/",
          "height": 34
        },
        "outputId": "1c79ec6e-0b89-469f-c25f-6f9cb1ec9a14"
      },
      "source": [
        "sample(x=1:10,5,replace=F) # 비복원 추출"
      ],
      "execution_count": 28,
      "outputs": [
        {
          "output_type": "display_data",
          "data": {
            "text/plain": [
              "[1]  3  8  9  7 10"
            ],
            "text/latex": "\\begin{enumerate*}\n\\item 3\n\\item 8\n\\item 9\n\\item 7\n\\item 10\n\\end{enumerate*}\n",
            "text/markdown": "1. 3\n2. 8\n3. 9\n4. 7\n5. 10\n\n\n",
            "text/html": [
              "<style>\n",
              ".list-inline {list-style: none; margin:0; padding: 0}\n",
              ".list-inline>li {display: inline-block}\n",
              ".list-inline>li:not(:last-child)::after {content: \"\\00b7\"; padding: 0 .5ex}\n",
              "</style>\n",
              "<ol class=list-inline><li>3</li><li>8</li><li>9</li><li>7</li><li>10</li></ol>\n"
            ]
          },
          "metadata": {
            "tags": []
          }
        }
      ]
    },
    {
      "cell_type": "code",
      "metadata": {
        "id": "lUyz_wvDWmDc",
        "colab_type": "code",
        "colab": {
          "base_uri": "https://localhost:8080/",
          "height": 34
        },
        "outputId": "9532c5f7-6821-4826-dccd-00dad4ba2ac7"
      },
      "source": [
        "sample(x=1:10,5,replace=T) # 복원 추출"
      ],
      "execution_count": 31,
      "outputs": [
        {
          "output_type": "display_data",
          "data": {
            "text/plain": [
              "[1] 8 8 7 5 3"
            ],
            "text/latex": "\\begin{enumerate*}\n\\item 8\n\\item 8\n\\item 7\n\\item 5\n\\item 3\n\\end{enumerate*}\n",
            "text/markdown": "1. 8\n2. 8\n3. 7\n4. 5\n5. 3\n\n\n",
            "text/html": [
              "<style>\n",
              ".list-inline {list-style: none; margin:0; padding: 0}\n",
              ".list-inline>li {display: inline-block}\n",
              ".list-inline>li:not(:last-child)::after {content: \"\\00b7\"; padding: 0 .5ex}\n",
              "</style>\n",
              "<ol class=list-inline><li>8</li><li>8</li><li>7</li><li>5</li><li>3</li></ol>\n"
            ]
          },
          "metadata": {
            "tags": []
          }
        }
      ]
    },
    {
      "cell_type": "code",
      "metadata": {
        "id": "7qv2BcIaXBeu",
        "colab_type": "code",
        "colab": {
          "base_uri": "https://localhost:8080/",
          "height": 34
        },
        "outputId": "bccdaecd-ae87-4b93-8793-091342a768f8"
      },
      "source": [
        "sample(x=1:45,6,replace = F)"
      ],
      "execution_count": 33,
      "outputs": [
        {
          "output_type": "display_data",
          "data": {
            "text/plain": [
              "[1] 29 45 38 12 26 30"
            ],
            "text/latex": "\\begin{enumerate*}\n\\item 29\n\\item 45\n\\item 38\n\\item 12\n\\item 26\n\\item 30\n\\end{enumerate*}\n",
            "text/markdown": "1. 29\n2. 45\n3. 38\n4. 12\n5. 26\n6. 30\n\n\n",
            "text/html": [
              "<style>\n",
              ".list-inline {list-style: none; margin:0; padding: 0}\n",
              ".list-inline>li {display: inline-block}\n",
              ".list-inline>li:not(:last-child)::after {content: \"\\00b7\"; padding: 0 .5ex}\n",
              "</style>\n",
              "<ol class=list-inline><li>29</li><li>45</li><li>38</li><li>12</li><li>26</li><li>30</li></ol>\n"
            ]
          },
          "metadata": {
            "tags": []
          }
        }
      ]
    },
    {
      "cell_type": "code",
      "metadata": {
        "id": "ex3Oe590YZw6",
        "colab_type": "code",
        "colab": {}
      },
      "source": [
        "# 데이터 요약"
      ],
      "execution_count": null,
      "outputs": []
    },
    {
      "cell_type": "code",
      "metadata": {
        "id": "GfNyO9DtYjEb",
        "colab_type": "code",
        "colab": {}
      },
      "source": [
        "summermedals <- read.csv('https://raw.githubusercontent.com/hyperces/R_statics/master/datasets/summermedals.csv')"
      ],
      "execution_count": 36,
      "outputs": []
    },
    {
      "cell_type": "code",
      "metadata": {
        "id": "wJ3ESIH8ZGf3",
        "colab_type": "code",
        "colab": {
          "base_uri": "https://localhost:8080/",
          "height": 204
        },
        "outputId": "48900f66-003b-45b0-88b7-85f5e00d52c3"
      },
      "source": [
        "head(summermedals)"
      ],
      "execution_count": 38,
      "outputs": [
        {
          "output_type": "display_data",
          "data": {
            "text/plain": [
              "  Year City   Sport    Discipline Athlete               Country Gender\n",
              "1 1896 Athens Aquatics Swimming   HAJOS, Alfred         HUN     Men   \n",
              "2 1896 Athens Aquatics Swimming   HERSCHMANN, Otto      AUT     Men   \n",
              "3 1896 Athens Aquatics Swimming   DRIVAS, Dimitrios     GRE     Men   \n",
              "4 1896 Athens Aquatics Swimming   MALOKINIS, Ioannis    GRE     Men   \n",
              "5 1896 Athens Aquatics Swimming   CHASAPIS, Spiridon    GRE     Men   \n",
              "6 1896 Athens Aquatics Swimming   CHOROPHAS, Efstathios GRE     Men   \n",
              "  Event                      Medal \n",
              "1 100M Freestyle             Gold  \n",
              "2 100M Freestyle             Silver\n",
              "3 100M Freestyle For Sailors Bronze\n",
              "4 100M Freestyle For Sailors Gold  \n",
              "5 100M Freestyle For Sailors Silver\n",
              "6 1200M Freestyle            Bronze"
            ],
            "text/latex": "A data.frame: 6 × 9\n\\begin{tabular}{r|lllllllll}\n  & Year & City & Sport & Discipline & Athlete & Country & Gender & Event & Medal\\\\\n  & <int> & <fct> & <fct> & <fct> & <fct> & <fct> & <fct> & <fct> & <fct>\\\\\n\\hline\n\t1 & 1896 & Athens & Aquatics & Swimming & HAJOS, Alfred         & HUN & Men & 100M Freestyle             & Gold  \\\\\n\t2 & 1896 & Athens & Aquatics & Swimming & HERSCHMANN, Otto      & AUT & Men & 100M Freestyle             & Silver\\\\\n\t3 & 1896 & Athens & Aquatics & Swimming & DRIVAS, Dimitrios     & GRE & Men & 100M Freestyle For Sailors & Bronze\\\\\n\t4 & 1896 & Athens & Aquatics & Swimming & MALOKINIS, Ioannis    & GRE & Men & 100M Freestyle For Sailors & Gold  \\\\\n\t5 & 1896 & Athens & Aquatics & Swimming & CHASAPIS, Spiridon    & GRE & Men & 100M Freestyle For Sailors & Silver\\\\\n\t6 & 1896 & Athens & Aquatics & Swimming & CHOROPHAS, Efstathios & GRE & Men & 1200M Freestyle            & Bronze\\\\\n\\end{tabular}\n",
            "text/markdown": "\nA data.frame: 6 × 9\n\n| <!--/--> | Year &lt;int&gt; | City &lt;fct&gt; | Sport &lt;fct&gt; | Discipline &lt;fct&gt; | Athlete &lt;fct&gt; | Country &lt;fct&gt; | Gender &lt;fct&gt; | Event &lt;fct&gt; | Medal &lt;fct&gt; |\n|---|---|---|---|---|---|---|---|---|---|\n| 1 | 1896 | Athens | Aquatics | Swimming | HAJOS, Alfred         | HUN | Men | 100M Freestyle             | Gold   |\n| 2 | 1896 | Athens | Aquatics | Swimming | HERSCHMANN, Otto      | AUT | Men | 100M Freestyle             | Silver |\n| 3 | 1896 | Athens | Aquatics | Swimming | DRIVAS, Dimitrios     | GRE | Men | 100M Freestyle For Sailors | Bronze |\n| 4 | 1896 | Athens | Aquatics | Swimming | MALOKINIS, Ioannis    | GRE | Men | 100M Freestyle For Sailors | Gold   |\n| 5 | 1896 | Athens | Aquatics | Swimming | CHASAPIS, Spiridon    | GRE | Men | 100M Freestyle For Sailors | Silver |\n| 6 | 1896 | Athens | Aquatics | Swimming | CHOROPHAS, Efstathios | GRE | Men | 1200M Freestyle            | Bronze |\n\n",
            "text/html": [
              "<table>\n",
              "<caption>A data.frame: 6 × 9</caption>\n",
              "<thead>\n",
              "\t<tr><th></th><th scope=col>Year</th><th scope=col>City</th><th scope=col>Sport</th><th scope=col>Discipline</th><th scope=col>Athlete</th><th scope=col>Country</th><th scope=col>Gender</th><th scope=col>Event</th><th scope=col>Medal</th></tr>\n",
              "\t<tr><th></th><th scope=col>&lt;int&gt;</th><th scope=col>&lt;fct&gt;</th><th scope=col>&lt;fct&gt;</th><th scope=col>&lt;fct&gt;</th><th scope=col>&lt;fct&gt;</th><th scope=col>&lt;fct&gt;</th><th scope=col>&lt;fct&gt;</th><th scope=col>&lt;fct&gt;</th><th scope=col>&lt;fct&gt;</th></tr>\n",
              "</thead>\n",
              "<tbody>\n",
              "\t<tr><th scope=row>1</th><td>1896</td><td>Athens</td><td>Aquatics</td><td>Swimming</td><td>HAJOS, Alfred        </td><td>HUN</td><td>Men</td><td>100M Freestyle            </td><td>Gold  </td></tr>\n",
              "\t<tr><th scope=row>2</th><td>1896</td><td>Athens</td><td>Aquatics</td><td>Swimming</td><td>HERSCHMANN, Otto     </td><td>AUT</td><td>Men</td><td>100M Freestyle            </td><td>Silver</td></tr>\n",
              "\t<tr><th scope=row>3</th><td>1896</td><td>Athens</td><td>Aquatics</td><td>Swimming</td><td>DRIVAS, Dimitrios    </td><td>GRE</td><td>Men</td><td>100M Freestyle For Sailors</td><td>Bronze</td></tr>\n",
              "\t<tr><th scope=row>4</th><td>1896</td><td>Athens</td><td>Aquatics</td><td>Swimming</td><td>MALOKINIS, Ioannis   </td><td>GRE</td><td>Men</td><td>100M Freestyle For Sailors</td><td>Gold  </td></tr>\n",
              "\t<tr><th scope=row>5</th><td>1896</td><td>Athens</td><td>Aquatics</td><td>Swimming</td><td>CHASAPIS, Spiridon   </td><td>GRE</td><td>Men</td><td>100M Freestyle For Sailors</td><td>Silver</td></tr>\n",
              "\t<tr><th scope=row>6</th><td>1896</td><td>Athens</td><td>Aquatics</td><td>Swimming</td><td>CHOROPHAS, Efstathios</td><td>GRE</td><td>Men</td><td>1200M Freestyle           </td><td>Bronze</td></tr>\n",
              "</tbody>\n",
              "</table>\n"
            ]
          },
          "metadata": {
            "tags": []
          }
        }
      ]
    },
    {
      "cell_type": "code",
      "metadata": {
        "id": "o20hJ1hpZQKh",
        "colab_type": "code",
        "colab": {
          "base_uri": "https://localhost:8080/",
          "height": 204
        },
        "outputId": "ba3a13b4-b8fc-41c4-e4c9-97782e4b6df8"
      },
      "source": [
        "tail(summermedals)"
      ],
      "execution_count": 39,
      "outputs": [
        {
          "output_type": "display_data",
          "data": {
            "text/plain": [
              "      Year City   Sport     Discipline          Athlete                  \n",
              "31160 2012 London Wrestling Wrestling Freestyle GAJIYEV, Danyal          \n",
              "31161 2012 London Wrestling Wrestling Freestyle JANIKOWSKI, Damian       \n",
              "31162 2012 London Wrestling Wrestling Freestyle REZAEI, Ghasem Gholamreza\n",
              "31163 2012 London Wrestling Wrestling Freestyle TOTROV, Rustam           \n",
              "31164 2012 London Wrestling Wrestling Freestyle ALEKSANYAN, Artur        \n",
              "31165 2012 London Wrestling Wrestling Freestyle LIDBERG, Jimmy           \n",
              "      Country Gender Event    Medal \n",
              "31160 KAZ     Men    Wg 84 KG Bronze\n",
              "31161 POL     Men    Wg 84 KG Bronze\n",
              "31162 IRI     Men    Wg 96 KG Gold  \n",
              "31163 RUS     Men    Wg 96 KG Silver\n",
              "31164 ARM     Men    Wg 96 KG Bronze\n",
              "31165 SWE     Men    Wg 96 KG Bronze"
            ],
            "text/latex": "A data.frame: 6 × 9\n\\begin{tabular}{r|lllllllll}\n  & Year & City & Sport & Discipline & Athlete & Country & Gender & Event & Medal\\\\\n  & <int> & <fct> & <fct> & <fct> & <fct> & <fct> & <fct> & <fct> & <fct>\\\\\n\\hline\n\t31160 & 2012 & London & Wrestling & Wrestling Freestyle & GAJIYEV, Danyal           & KAZ & Men & Wg 84 KG & Bronze\\\\\n\t31161 & 2012 & London & Wrestling & Wrestling Freestyle & JANIKOWSKI, Damian        & POL & Men & Wg 84 KG & Bronze\\\\\n\t31162 & 2012 & London & Wrestling & Wrestling Freestyle & REZAEI, Ghasem Gholamreza & IRI & Men & Wg 96 KG & Gold  \\\\\n\t31163 & 2012 & London & Wrestling & Wrestling Freestyle & TOTROV, Rustam            & RUS & Men & Wg 96 KG & Silver\\\\\n\t31164 & 2012 & London & Wrestling & Wrestling Freestyle & ALEKSANYAN, Artur         & ARM & Men & Wg 96 KG & Bronze\\\\\n\t31165 & 2012 & London & Wrestling & Wrestling Freestyle & LIDBERG, Jimmy            & SWE & Men & Wg 96 KG & Bronze\\\\\n\\end{tabular}\n",
            "text/markdown": "\nA data.frame: 6 × 9\n\n| <!--/--> | Year &lt;int&gt; | City &lt;fct&gt; | Sport &lt;fct&gt; | Discipline &lt;fct&gt; | Athlete &lt;fct&gt; | Country &lt;fct&gt; | Gender &lt;fct&gt; | Event &lt;fct&gt; | Medal &lt;fct&gt; |\n|---|---|---|---|---|---|---|---|---|---|\n| 31160 | 2012 | London | Wrestling | Wrestling Freestyle | GAJIYEV, Danyal           | KAZ | Men | Wg 84 KG | Bronze |\n| 31161 | 2012 | London | Wrestling | Wrestling Freestyle | JANIKOWSKI, Damian        | POL | Men | Wg 84 KG | Bronze |\n| 31162 | 2012 | London | Wrestling | Wrestling Freestyle | REZAEI, Ghasem Gholamreza | IRI | Men | Wg 96 KG | Gold   |\n| 31163 | 2012 | London | Wrestling | Wrestling Freestyle | TOTROV, Rustam            | RUS | Men | Wg 96 KG | Silver |\n| 31164 | 2012 | London | Wrestling | Wrestling Freestyle | ALEKSANYAN, Artur         | ARM | Men | Wg 96 KG | Bronze |\n| 31165 | 2012 | London | Wrestling | Wrestling Freestyle | LIDBERG, Jimmy            | SWE | Men | Wg 96 KG | Bronze |\n\n",
            "text/html": [
              "<table>\n",
              "<caption>A data.frame: 6 × 9</caption>\n",
              "<thead>\n",
              "\t<tr><th></th><th scope=col>Year</th><th scope=col>City</th><th scope=col>Sport</th><th scope=col>Discipline</th><th scope=col>Athlete</th><th scope=col>Country</th><th scope=col>Gender</th><th scope=col>Event</th><th scope=col>Medal</th></tr>\n",
              "\t<tr><th></th><th scope=col>&lt;int&gt;</th><th scope=col>&lt;fct&gt;</th><th scope=col>&lt;fct&gt;</th><th scope=col>&lt;fct&gt;</th><th scope=col>&lt;fct&gt;</th><th scope=col>&lt;fct&gt;</th><th scope=col>&lt;fct&gt;</th><th scope=col>&lt;fct&gt;</th><th scope=col>&lt;fct&gt;</th></tr>\n",
              "</thead>\n",
              "<tbody>\n",
              "\t<tr><th scope=row>31160</th><td>2012</td><td>London</td><td>Wrestling</td><td>Wrestling Freestyle</td><td>GAJIYEV, Danyal          </td><td>KAZ</td><td>Men</td><td>Wg 84 KG</td><td>Bronze</td></tr>\n",
              "\t<tr><th scope=row>31161</th><td>2012</td><td>London</td><td>Wrestling</td><td>Wrestling Freestyle</td><td>JANIKOWSKI, Damian       </td><td>POL</td><td>Men</td><td>Wg 84 KG</td><td>Bronze</td></tr>\n",
              "\t<tr><th scope=row>31162</th><td>2012</td><td>London</td><td>Wrestling</td><td>Wrestling Freestyle</td><td>REZAEI, Ghasem Gholamreza</td><td>IRI</td><td>Men</td><td>Wg 96 KG</td><td>Gold  </td></tr>\n",
              "\t<tr><th scope=row>31163</th><td>2012</td><td>London</td><td>Wrestling</td><td>Wrestling Freestyle</td><td>TOTROV, Rustam           </td><td>RUS</td><td>Men</td><td>Wg 96 KG</td><td>Silver</td></tr>\n",
              "\t<tr><th scope=row>31164</th><td>2012</td><td>London</td><td>Wrestling</td><td>Wrestling Freestyle</td><td>ALEKSANYAN, Artur        </td><td>ARM</td><td>Men</td><td>Wg 96 KG</td><td>Bronze</td></tr>\n",
              "\t<tr><th scope=row>31165</th><td>2012</td><td>London</td><td>Wrestling</td><td>Wrestling Freestyle</td><td>LIDBERG, Jimmy           </td><td>SWE</td><td>Men</td><td>Wg 96 KG</td><td>Bronze</td></tr>\n",
              "</tbody>\n",
              "</table>\n"
            ]
          },
          "metadata": {
            "tags": []
          }
        }
      ]
    },
    {
      "cell_type": "code",
      "metadata": {
        "id": "xbbi6y9gZYAl",
        "colab_type": "code",
        "colab": {
          "base_uri": "https://localhost:8080/",
          "height": 449
        },
        "outputId": "8f8dcc99-acb9-41e4-d921-edc4b98da593"
      },
      "source": [
        "summary(summermedals)"
      ],
      "execution_count": 40,
      "outputs": [
        {
          "output_type": "display_data",
          "data": {
            "text/plain": [
              "      Year               City              Sport             Discipline   \n",
              " Min.   :1896   London     : 3567   Aquatics  : 4170   Athletics  : 3638  \n",
              " 1st Qu.:1948   Athens     : 2149   Athletics : 3638   Rowing     : 2667  \n",
              " Median :1980   Los Angeles: 2074   Rowing    : 2667   Swimming   : 2628  \n",
              " Mean   :1970   Beijing    : 2042   Gymnastics: 2307   Artistic G.: 2103  \n",
              " 3rd Qu.:2000   Sydney     : 2015   Fencing   : 1613   Fencing    : 1613  \n",
              " Max.   :2012   Atlanta    : 1859   Football  : 1497   Football   : 1497  \n",
              "                (Other)    :17459   (Other)   :15273   (Other)    :17019  \n",
              "                 Athlete         Country        Gender     \n",
              " PHELPS, Michael     :   22   USA    : 4585   Men  :22746  \n",
              " LATYNINA, Larisa    :   18   URS    : 2049   Women: 8419  \n",
              " ANDRIANOV, Nikolay  :   15   GBR    : 1720                \n",
              " MANGIAROTTI, Edoardo:   13   FRA    : 1396                \n",
              " ONO, Takashi        :   13   GER    : 1305                \n",
              " SHAKHLIN, Boris     :   13   ITA    : 1296                \n",
              " (Other)             :31071   (Other):18814                \n",
              "              Event          Medal      \n",
              " Football        : 1497   Bronze:10369  \n",
              " Hockey          : 1422   Gold  :10486  \n",
              " Team Competition: 1147   Silver:10310  \n",
              " Basketball      : 1012                 \n",
              " Handball        :  973                 \n",
              " Water Polo      :  958                 \n",
              " (Other)         :24156                 "
            ]
          },
          "metadata": {
            "tags": []
          }
        }
      ]
    },
    {
      "cell_type": "code",
      "metadata": {
        "id": "nHMPYfzSaPKa",
        "colab_type": "code",
        "colab": {}
      },
      "source": [
        "# 데이터 구조"
      ],
      "execution_count": null,
      "outputs": []
    },
    {
      "cell_type": "code",
      "metadata": {
        "id": "Olmv_WRsaRPC",
        "colab_type": "code",
        "colab": {
          "base_uri": "https://localhost:8080/",
          "height": 197
        },
        "outputId": "bd3cd630-f73c-445b-abf3-e2d30a932b1c"
      },
      "source": [
        "str(summermedals)"
      ],
      "execution_count": 41,
      "outputs": [
        {
          "output_type": "stream",
          "text": [
            "'data.frame':\t31165 obs. of  9 variables:\n",
            " $ Year      : int  1896 1896 1896 1896 1896 1896 1896 1896 1896 1896 ...\n",
            " $ City      : Factor w/ 22 levels \"Amsterdam\",\"Antwerp\",..: 3 3 3 3 3 3 3 3 3 3 ...\n",
            " $ Sport     : Factor w/ 43 levels \"Aquatics\",\"Archery\",..: 1 1 1 1 1 1 1 1 1 1 ...\n",
            " $ Discipline: Factor w/ 67 levels \"Archery\",\"Artistic G.\",..: 50 50 50 50 50 50 50 50 50 50 ...\n",
            " $ Athlete   : Factor w/ 22762 levels \"AABYE, Edgar\",..: 7412 8021 4894 12438 3157 3339 7412 503 3339 14271 ...\n",
            " $ Country   : Factor w/ 148 levels \"\",\"AFG\",\"AHO\",..: 60 9 54 54 54 54 60 54 54 9 ...\n",
            " $ Gender    : Factor w/ 2 levels \"Men\",\"Women\": 1 1 1 1 1 1 1 1 1 1 ...\n",
            " $ Event     : Factor w/ 666 levels \"- 47.63KG (Flyweight)\",..: 79 79 80 80 80 105 105 105 162 162 ...\n",
            " $ Medal     : Factor w/ 3 levels \"Bronze\",\"Gold\",..: 2 3 1 2 3 1 2 3 1 2 ...\n"
          ],
          "name": "stdout"
        }
      ]
    },
    {
      "cell_type": "code",
      "metadata": {
        "id": "HMbREr4Qaqq6",
        "colab_type": "code",
        "colab": {}
      },
      "source": [
        "# 문자형을 명목형으로 자동 변환하지 않음"
      ],
      "execution_count": null,
      "outputs": []
    },
    {
      "cell_type": "code",
      "metadata": {
        "id": "MozaOMecajsu",
        "colab_type": "code",
        "colab": {}
      },
      "source": [
        "summermedals2 <- read.csv('https://raw.githubusercontent.com/hyperces/R_statics/master/datasets/summermedals.csv',stringsAsFactors = F)"
      ],
      "execution_count": 42,
      "outputs": []
    },
    {
      "cell_type": "code",
      "metadata": {
        "id": "gaPr3zGAaw0z",
        "colab_type": "code",
        "colab": {
          "base_uri": "https://localhost:8080/",
          "height": 197
        },
        "outputId": "31912b27-7e21-4b65-cbe8-1eba7cd93df9"
      },
      "source": [
        "str(summermedals2)"
      ],
      "execution_count": 43,
      "outputs": [
        {
          "output_type": "stream",
          "text": [
            "'data.frame':\t31165 obs. of  9 variables:\n",
            " $ Year      : int  1896 1896 1896 1896 1896 1896 1896 1896 1896 1896 ...\n",
            " $ City      : chr  \"Athens\" \"Athens\" \"Athens\" \"Athens\" ...\n",
            " $ Sport     : chr  \"Aquatics\" \"Aquatics\" \"Aquatics\" \"Aquatics\" ...\n",
            " $ Discipline: chr  \"Swimming\" \"Swimming\" \"Swimming\" \"Swimming\" ...\n",
            " $ Athlete   : chr  \"HAJOS, Alfred\" \"HERSCHMANN, Otto\" \"DRIVAS, Dimitrios\" \"MALOKINIS, Ioannis\" ...\n",
            " $ Country   : chr  \"HUN\" \"AUT\" \"GRE\" \"GRE\" ...\n",
            " $ Gender    : chr  \"Men\" \"Men\" \"Men\" \"Men\" ...\n",
            " $ Event     : chr  \"100M Freestyle\" \"100M Freestyle\" \"100M Freestyle For Sailors\" \"100M Freestyle For Sailors\" ...\n",
            " $ Medal     : chr  \"Gold\" \"Silver\" \"Bronze\" \"Gold\" ...\n"
          ],
          "name": "stdout"
        }
      ]
    },
    {
      "cell_type": "code",
      "metadata": {
        "id": "noh6T3j7aDZE",
        "colab_type": "code",
        "colab": {}
      },
      "source": [
        "# 성별 선수 현황"
      ],
      "execution_count": null,
      "outputs": []
    },
    {
      "cell_type": "code",
      "metadata": {
        "id": "MBdua5LQaLsX",
        "colab_type": "code",
        "colab": {}
      },
      "source": [
        "# 데이터프레임명$변수명\n",
        "# 빈도표 작성 : table"
      ],
      "execution_count": null,
      "outputs": []
    },
    {
      "cell_type": "code",
      "metadata": {
        "id": "_5xWzwcebsNC",
        "colab_type": "code",
        "colab": {
          "base_uri": "https://localhost:8080/",
          "height": 491
        },
        "outputId": "db6dbc7a-1bfb-44c6-bcb3-072405ae5c6e"
      },
      "source": [
        "frq_gender <- table(summermedals$Gender)\n",
        "frq_gender\n",
        "barplot(frq_gender)"
      ],
      "execution_count": 46,
      "outputs": [
        {
          "output_type": "display_data",
          "data": {
            "text/plain": [
              "\n",
              "  Men Women \n",
              "22746  8419 "
            ]
          },
          "metadata": {
            "tags": []
          }
        },
        {
          "output_type": "display_data",
          "data": {
            "image/png": "[encoded data removed]",
            "text/plain": [
              "plot without title"
            ]
          },
          "metadata": {
            "tags": [],
            "image/png": {
              "width": 420,
              "height": 420
            }
          }
        }
      ]
    },
    {
      "cell_type": "code",
      "metadata": {
        "id": "0dRX6y2aYb3w",
        "colab_type": "code",
        "colab": {}
      },
      "source": [
        "# 질적자료 시각화"
      ],
      "execution_count": 34,
      "outputs": []
    },
    {
      "cell_type": "code",
      "metadata": {
        "id": "907FgC34YeSj",
        "colab_type": "code",
        "colab": {}
      },
      "source": [
        "# 양적자료 시각화"
      ],
      "execution_count": null,
      "outputs": []
    }
  ]
}