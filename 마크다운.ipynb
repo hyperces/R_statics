{
  "nbformat": 4,
  "nbformat_minor": 0,
  "metadata": {
    "colab": {
      "name": "마크다운.ipynb",
      "provenance": [],
      "collapsed_sections": [],
      "authorship_tag": "ABX9TyOtloy0AXjinBWMWN0JlctI",
      "include_colab_link": true
    },
    "kernelspec": {
      "name": "ir",
      "display_name": "R"
    }
  },
  "cells": [
    {
      "cell_type": "markdown",
      "metadata": {
        "id": "view-in-github",
        "colab_type": "text"
      },
      "source": [
        "<a href=\"https://colab.research.google.com/github/hyperces/R_statics/blob/master/%EB%A7%88%ED%81%AC%EB%8B%A4%EC%9A%B4.ipynb\" target=\"_parent\"><img src=\"https://colab.research.google.com/assets/colab-badge.svg\" alt=\"Open In Colab\"/></a>"
      ]
    },
    {
      "cell_type": "markdown",
      "metadata": {
        "id": "aqxbRwmgGwL3",
        "colab_type": "text"
      },
      "source": [
        "# 제목 1\n",
        "## 제목 2\n",
        "### 제목 3\n",
        "\n",
        "#글자 꾸미기 : \n",
        "**색상진하게**  \n",
        "*강조하기*  \n",
        "~취소선~  \n",
        "\n",
        "# 구분선: 하이픈 여러개  \n",
        "----  \n",
        "\n",
        "# 인용구 : > \n",
        "> 시간은 금이다\n",
        "\n",
        "# 순서있는 목록 : 숫자기호\n",
        "* 좋아하는 게임들 *\n",
        "1. ps5\n",
        "2. x박스\n",
        "3. 스위치  \n",
        "\n",
        "\n",
        "# 순서없는 목록 : 각종기호 , 들여쓰기\n",
        "* 좋아하는 게임들 *\n",
        "* ps5  \n",
        " + GTA  \n",
        " + 너티독\n",
        "\n",
        "* x박스\n",
        " + 포르자\n",
        " + 기어스\n",
        "\n",
        "* 스위치  \n",
        " + 마리오\n",
        " + 젤다\n",
        "\n",
        "# 링크 : 대괄호로 링크제목, 괄호로 링크주소  \n",
        "[네이버](http://naver.com)  \n",
        "[구글](http://google.com)\n",
        "\n",
        "# 이미지 : 느낌표+괄호\n",
        "![]()\n",
        "\n",
        "\n",
        "# 표 작성  \n",
        "|이름 | 국어 | 영어 | 수학 |  \n",
        "|---- | ----  | ---- | -----|\n",
        "| 수지 | 98 | 78 | 23 |\n",
        "| 지현 | 98 | 78 | 23 |  \n",
        "| 혜교 | 98 | 78 | 23 |  \n",
        "\n",
        "\n",
        "# 수학식\n",
        "$\\bar{x} = 1 \\over n$  \n"
      ]
    },
    {
      "cell_type": "code",
      "metadata": {
        "id": "ShIObkDoAKuc",
        "colab_type": "code",
        "colab": {}
      },
      "source": [
        "\n"
      ],
      "execution_count": 1,
      "outputs": []
    }
  ]
}